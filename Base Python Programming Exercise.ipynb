{
 "cells": [
  {
   "cell_type": "markdown",
   "metadata": {},
   "source": [
    "## Python Basic Programming Exercises"
   ]
  },
  {
   "cell_type": "code",
   "execution_count": 5,
   "metadata": {},
   "outputs": [
    {
     "name": "stdout",
     "output_type": "stream",
     "text": [
      "4.0\n"
     ]
    }
   ],
   "source": [
    "# Q1 What is the output of following expression    5 + 4 * 9 % (3 + 1) / 6 - 1\n",
    "\n",
    "a=(5 + 4 * 9 % (3 + 1) / 6 - 1)\n",
    "\n",
    "print(a)"
   ]
  },
  {
   "cell_type": "code",
   "execution_count": 11,
   "metadata": {},
   "outputs": [
    {
     "name": "stdout",
     "output_type": "stream",
     "text": [
      "enter number= 8\n",
      "number is even\n"
     ]
    }
   ],
   "source": [
    "# Q2: Write a program to check if a Number is Odd or Even. Take number as a input from user at runtime.\n",
    "\n",
    "try:\n",
    "    num=float(input('enter number= '))\n",
    "    if num%2==0:\n",
    "        print ('number is even')\n",
    "    else:\n",
    "        print('number is odd')\n",
    "except:\n",
    "    print('enter a valid number')"
   ]
  },
  {
   "cell_type": "code",
   "execution_count": 16,
   "metadata": {},
   "outputs": [
    {
     "name": "stdout",
     "output_type": "stream",
     "text": [
      "enter number= 8.9\n",
      "8.9 x  1 = 8.9\n",
      "8.9 x  2 = 17.8\n",
      "8.9 x  3 = 26.700000000000003\n",
      "8.9 x  4 = 35.6\n",
      "8.9 x  5 = 44.5\n",
      "8.9 x  6 = 53.400000000000006\n",
      "8.9 x  7 = 62.300000000000004\n",
      "8.9 x  8 = 71.2\n",
      "8.9 x  9 = 80.10000000000001\n",
      "8.9 x  10 = 89.0\n"
     ]
    }
   ],
   "source": [
    "# Q3: Write a program to display the multiplication table by taking a number as input. \n",
    "\n",
    "\n",
    "try:\n",
    "    num=float(input('enter number= '))\n",
    "    for i in range(1,11):\n",
    "        print(f'{num} x  {i} = {num*i}')\n",
    "except:\n",
    "    print('enter a valid number')"
   ]
  },
  {
   "cell_type": "code",
   "execution_count": 57,
   "metadata": {},
   "outputs": [
    {
     "name": "stdout",
     "output_type": "stream",
     "text": [
      "2002,2009,2016,2023,2037,2044,2051,2058,2072,2079,2086,2093,2107,2114,2121,2128,2142,2149,2156,2163,2177,2184,2191,2198,2212,2219,2226,2233,2247,2254,2261,2268,2282,2289,2296,2303,2317,2324,2331,2338,2352,2359,2366,2373,2387,2394,2401,2408,2422,2429,2436,2443,2457,2464,2471,2478,2492,2499,2506,2513,2527,2534,2541,2548,2562,2569,2576,2583,2597,2604,2611,2618,2632,2639,2646,2653,2667,2674,2681,2688,2702,2709,2716,2723,2737,2744,2751,2758,2772,2779,2786,2793,2807,2814,2821,2828,2842,2849,2856,2863,2877,2884,2891,2898,2912,2919,2926,2933,2947,2954,2961,2968,2982,2989,2996,3003,3017,3024,3031,3038,3052,3059,3066,3073,3087,3094,3101,3108,3122,3129,3136,3143,3157,3164,3171,3178,3192,3199,\b\n"
     ]
    }
   ],
   "source": [
    "# Q4: Write a program which will find all numbers between 2000 and 3200 which are divisible by 7 \n",
    "#    but are not a multiple of 5.\n",
    " \n",
    "# Note: The numbers obtained should be printed in a comma-separated sequence on a single line.\n",
    "\n",
    "for i in range(2000,3201):\n",
    "    if i%7==0 and i%5!=0:\n",
    "        print(i,end=',')\n",
    "print('\\b')"
   ]
  },
  {
   "cell_type": "code",
   "execution_count": 25,
   "metadata": {},
   "outputs": [
    {
     "data": {
      "text/plain": [
       "{'int': 5, 'bool': 1, 'float': 1, 'str': 4, 'None': 1}"
      ]
     },
     "execution_count": 25,
     "metadata": {},
     "output_type": "execute_result"
    }
   ],
   "source": [
    " #Q5: Count the elements of each datatype inside the list and display in output\n",
    " #   [2, 3, 'Py', '10', 1, 'SQL', 5.5, True, 3, 'John', None, 7]  \n",
    "\n",
    "    \n",
    "lst= [2, 3, 'Py', '10', 1, 'SQL', 5.5, True, 3, 'John', None, 7]\n",
    "d={'int':0,'bool':0,'float':0,'str':0,'None':0}\n",
    "for i in lst:\n",
    "    if type(i)==int:\n",
    "        d['int']+=1\n",
    "    elif type(i)==bool:\n",
    "        d['bool']+=1\n",
    "    elif type(i)==float:\n",
    "        d['float']+=1\n",
    "    elif type(i)==str:\n",
    "        d['str']+=1\n",
    "    else:\n",
    "        d['None']+=1\n",
    "        \n",
    "d"
   ]
  },
  {
   "cell_type": "code",
   "execution_count": 4,
   "metadata": {},
   "outputs": [
    {
     "name": "stdout",
     "output_type": "stream",
     "text": [
      "21.5\n"
     ]
    }
   ],
   "source": [
    "#Q6: Add all values from the list with numeric datatypes \n",
    "   #[2, 3, 'Py', '10', 1, 'SQL', 5.5, True, 3, 'John', None, 7] \n",
    "\n",
    "    \n",
    "lst=[2, 3, 'Py', '10', 1, 'SQL', 5.5, True, 3, 'John', None, 7]\n",
    "total=0\n",
    "for i in lst:   \n",
    "    if type(i) in (int,float):\n",
    "        total+=i\n",
    "    else:\n",
    "        pass\n",
    "print(total)\n",
    "    \n",
    "    "
   ]
  },
  {
   "cell_type": "code",
   "execution_count": 59,
   "metadata": {},
   "outputs": [
    {
     "name": "stdout",
     "output_type": "stream",
     "text": [
      "Py-10-SQL-John\n"
     ]
    }
   ],
   "source": [
    "#Q7: Concat all str datatypes with hyphen as a delimiter\n",
    "#[2, 3, 'Py', '10', 1, 'SQL', 5.5, True, 3, 'John', None, 7]\n",
    "\n",
    "lst= [2, 3, 'Py', '10', 1, 'SQL', 5.5, True, 3, 'John', None, 7]\n",
    "lstn=[]\n",
    "for i in lst:\n",
    "    if type(i)==str:\n",
    "        lstn.append(i)\n",
    "print('-'.join(lstn))   \n",
    "\n"
   ]
  },
  {
   "cell_type": "code",
   "execution_count": 58,
   "metadata": {},
   "outputs": [
    {
     "name": "stdout",
     "output_type": "stream",
     "text": [
      "Py-10-SQL-John-\b\n"
     ]
    }
   ],
   "source": [
    "#Q7: Concat all str datatypes with hyphen as a delimiter\n",
    "#[2, 3, 'Py', '10', 1, 'SQL', 5.5, True, 3, 'John', None, 7]\n",
    "\n",
    "\n",
    "lst=[2, 3, 'Py', '10', 1, 'SQL', 5.5, True, 3, 'John', None, 7]\n",
    "for i in lst:\n",
    "    if type(i)==str:\n",
    "        print(i,end='-')\n",
    "print('\\b')\n"
   ]
  },
  {
   "cell_type": "code",
   "execution_count": 9,
   "metadata": {},
   "outputs": [
    {
     "data": {
      "text/plain": [
       "'Py-10-SQL-John'"
      ]
     },
     "execution_count": 9,
     "metadata": {},
     "output_type": "execute_result"
    }
   ],
   "source": [
    "#Q7: Concat all str datatypes with hyphen as a delimiter\n",
    "#[2, 3, 'Py', '10', 1, 'SQL', 5.5, True, 3, 'John', None, 7]\n",
    "\n",
    "\n",
    "lst=[2, 3, 'Py', '10', 1, 'SQL', 5.5, True, 3, 'John', None, 7]\n",
    "'-'.join(list(filter(lambda x: type(x)==str,lst)))"
   ]
  },
  {
   "cell_type": "code",
   "execution_count": 13,
   "metadata": {},
   "outputs": [
    {
     "data": {
      "text/plain": [
       "{'sum': 21.5, 'count_of_str': 4}"
      ]
     },
     "execution_count": 13,
     "metadata": {},
     "output_type": "execute_result"
    }
   ],
   "source": [
    "#Q8: Write a UDF that takes list as input and returns sum of all numbers \n",
    " #   (exclude bool) and count of all str \n",
    "  #  [2, 3, 'Py', '10', 1, 'SQL', 5.5, True, 3, 'John', None, 7] \n",
    "    \n",
    "\n",
    "lst=[2, 3, 'Py', '10', 1, 'SQL', 5.5, True, 3, 'John', None, 7]\n",
    "\n",
    "def func(args):\n",
    "    \n",
    "    d={'sum':0,'count_of_str':0}\n",
    "    for i in args:\n",
    "        if type(i) in (int,float):\n",
    "            d['sum']+=i\n",
    "        elif type(i)==str:\n",
    "            d['count_of_str']+=1\n",
    "    return d\n",
    "func(lst)"
   ]
  },
  {
   "cell_type": "code",
   "execution_count": 24,
   "metadata": {},
   "outputs": [
    {
     "name": "stdout",
     "output_type": "stream",
     "text": [
      "[5, 7, 97, 77, 23, 73, 61]\n"
     ]
    }
   ],
   "source": [
    "#Q9: Get only odd numbers from the following list and store the numbers in new list\n",
    " \n",
    " #  li = [5, 7, 22, 97, 54, 62, 77, 23, 73, 61]\n",
    "\n",
    "#  i. Use loops to get the answer\n",
    "\n",
    "li = [5, 7, 22, 97, 54, 62, 77, 23, 73, 61]\n",
    "ln=[]\n",
    "for i in li:\n",
    "    if i%2!=0:\n",
    "        ln.append(i)\n",
    "    else:\n",
    "        pass\n",
    "print(ln)\n",
    "  \n",
    "    "
   ]
  },
  {
   "cell_type": "code",
   "execution_count": 25,
   "metadata": {},
   "outputs": [
    {
     "data": {
      "text/plain": [
       "[5, 7, 97, 77, 23, 73, 61]"
      ]
     },
     "execution_count": 25,
     "metadata": {},
     "output_type": "execute_result"
    }
   ],
   "source": [
    "#Q9: Get only odd numbers from the following list and store the numbers in new list\n",
    " \n",
    " #  li = [5, 7, 22, 97, 54, 62, 77, 23, 73, 61]\n",
    "\n",
    "   # ii. Use list comprehensions\n",
    "\n",
    "    \n",
    "li = [5, 7, 22, 97, 54, 62, 77, 23, 73, 61]\n",
    "[i for i in li if i%2!=0]"
   ]
  },
  {
   "cell_type": "code",
   "execution_count": 62,
   "metadata": {},
   "outputs": [
    {
     "data": {
      "text/plain": [
       "[5, 7, 97, 77, 23, 73, 61]"
      ]
     },
     "execution_count": 62,
     "metadata": {},
     "output_type": "execute_result"
    }
   ],
   "source": [
    "#Q9: Get only odd numbers from the following list and store the numbers in new list\n",
    " \n",
    " #  li = [5, 7, 22, 97, 54, 62, 77, 23, 73, 61]\n",
    "\n",
    "  #iii. Use lambda function with filter\n",
    "    \n",
    "    \n",
    "li = [5, 7, 22, 97, 54, 62, 77, 23, 73, 61]\n",
    "list(filter(lambda x: (x%2!=0),li))\n",
    "\n"
   ]
  },
  {
   "cell_type": "code",
   "execution_count": 37,
   "metadata": {},
   "outputs": [
    {
     "data": {
      "text/plain": [
       "{'sum': 112, 'count': 6, 'min': 2, 'max': 89, 'mean': 14.5}"
      ]
     },
     "execution_count": 37,
     "metadata": {},
     "output_type": "execute_result"
    }
   ],
   "source": [
    "#Q10: Write a UDF to return the descriptives [sum, count, min, mean, max] for a list of n number of input numbers.\n",
    "\n",
    "\n",
    "def descr_info(*args):\n",
    "    d={}\n",
    "    total=0\n",
    "    count=0\n",
    "    mean=0\n",
    "    minval=0\n",
    "    maxval=0\n",
    "    total=sum(args)\n",
    "    count=len(args)\n",
    "    minval=min(args)\n",
    "    maxval=max(args)\n",
    "    mean=(maxval-minval)/count\n",
    "    d['sum']=total\n",
    "    d['count']=count\n",
    "    d['min']=minval\n",
    "    d['max']=maxval\n",
    "    d['mean']=mean\n",
    "    \n",
    "    return d\n",
    "\n",
    "descr_info(2,3,5,6,7,89)  \n",
    "    "
   ]
  },
  {
   "cell_type": "code",
   "execution_count": 4,
   "metadata": {},
   "outputs": [
    {
     "data": {
      "text/plain": [
       "144"
      ]
     },
     "execution_count": 4,
     "metadata": {},
     "output_type": "execute_result"
    }
   ],
   "source": [
    "#Q11: Write an udf to calculate the area of different shapes\n",
    "\n",
    "#Take shape and dimensions as arguments to udf as follows : \n",
    "\n",
    "#1. square which has side\n",
    "#2. rectangle which has length and width\n",
    "#3. circle which has radius\n",
    "\n",
    "#The shape should be a positional argument and it's dimensions are taken as kwargs\n",
    "\n",
    "#Perform proper validation for the user inputs and then calculate area.\n",
    "\n",
    "#E.g. if shape is square, ensure kwargs has \"side\" and if so, then you may return the area, else display appropriate error \n",
    "#message like \"Please enter 'side' for a square\"\n",
    "\n",
    "\n",
    "def area_func(shape,**kwargs):\n",
    "    area=0\n",
    "    if shape=='square':\n",
    "        if 'side' in kwargs and type(kwargs['side']) in (int,float):\n",
    "            area=kwargs['side']**2\n",
    "        else:\n",
    "            print('proper parameters are not provided for the shape')\n",
    "    elif shape=='circle':\n",
    "        if 'radius' in kwargs and type(kwargs['radius']) in (int,float):\n",
    "            area=3.14*(kwargs['radius']**2)\n",
    "        else:\n",
    "            print('proper parameters are not provided for the shape')\n",
    "    elif shape=='rectangle':\n",
    "        if 'length' in kwargs and 'width' and type(kwargs['length']) in (int,float) and type(kwargs['width']) in (int,float) :\n",
    "            area=kwargs['length']*kwargs['width']\n",
    "        else:\n",
    "            print('proper parameters are not provided for the shape')\n",
    "    else:\n",
    "        print('shape is not defined')\n",
    "    return area\n",
    "\n",
    "area_func('square', side=12)\n",
    "\n",
    "\n",
    "\n",
    "\n",
    "            \n",
    "    "
   ]
  },
  {
   "cell_type": "code",
   "execution_count": 29,
   "metadata": {},
   "outputs": [
    {
     "data": {
      "text/plain": [
       "{'matched': ['January', 'February', 'June', 'December'],\n",
       " 'only in lst1': ['March', 'May', 'September'],\n",
       " 'only in lst2': ['April', 'October']}"
      ]
     },
     "execution_count": 29,
     "metadata": {},
     "output_type": "execute_result"
    }
   ],
   "source": [
    "#Q12: Write a UDF to reconcile the values within two lists.\n",
    "#    l1 = ['January', 'February', 'March', 'May', 'June', 'September', 'December']\n",
    " #   l2 = ['January', 'February', 'April', 'June', 'October', 'December']\n",
    "\n",
    "\n",
    "def recon_2_lists(lst1,lst2):\n",
    "    d={}\n",
    "    lst3=[]\n",
    "    lst4=[]\n",
    "    lst5=[]\n",
    "    for i in lst1:\n",
    "        for j in lst2:\n",
    "            if i==j:\n",
    "                lst3.append(i)            \n",
    "            elif i not in lst4 and i not in lst2 :\n",
    "                lst4.append(i)\n",
    "            else:\n",
    "                pass\n",
    "    for i in lst2:\n",
    "        for j in lst1:\n",
    "            if i not in lst5 and i not in lst1 :\n",
    "                lst5.append(i)\n",
    "            else:\n",
    "                pass\n",
    "        \n",
    "    d['matched']=lst3\n",
    "    d['only in lst1']=lst4\n",
    "    d['only in lst2']=lst5 \n",
    "    \n",
    "    return d\n",
    "            \n",
    "\n",
    "l1 = ['January', 'February', 'March', 'May', 'June', 'September', 'December']\n",
    "l2 = ['January', 'February', 'April', 'June', 'October', 'December']\n",
    "\n",
    "recon_2_lists(l1,l2)\n"
   ]
  },
  {
   "cell_type": "code",
   "execution_count": 79,
   "metadata": {},
   "outputs": [
    {
     "name": "stdout",
     "output_type": "stream",
     "text": [
      "enter number= 9\n",
      "number is not prime\n"
     ]
    }
   ],
   "source": [
    "#Q13: write a UDF to check if a number is prime or not.\n",
    "\n",
    "\n",
    "def prime_no_check(num):\n",
    "    if num<2:\n",
    "        print('number is not prime')\n",
    "    else:\n",
    "        for i in range(2,int(num/2)+1):\n",
    "            if (num%i)==0:\n",
    "                print('number is not prime')\n",
    "                break\n",
    "        else:\n",
    "            print('number is prime')\n",
    "    \n",
    "n=int(input('enter number= '))\n",
    "prime_no_check(n)\n",
    "            \n"
   ]
  },
  {
   "cell_type": "code",
   "execution_count": 106,
   "metadata": {},
   "outputs": [
    {
     "name": "stdout",
     "output_type": "stream",
     "text": [
      "enter number= 8\n",
      "40320\n"
     ]
    }
   ],
   "source": [
    "#Q14. Write a program which can compute the factorial of a given numbers. \n",
    "#   The results should be printed in a comma-separated sequence on a single line. \n",
    "# input() function can be used for getting user(console) input\n",
    "\n",
    "\n",
    "#Suppose the input is supplied to the program:  8  \n",
    "#Then, the output should be:  40320 \n",
    "#Hints: In case of input data being supplied to the question, it should be assumed to be a console input.\n",
    "\n",
    "\n",
    "\n",
    "num=int(input('enter number= '))\n",
    "fact=1\n",
    "if num<0:\n",
    "    print('enter valid positive number')\n",
    "elif num==0:\n",
    "    print('factorial of zero is 0')\n",
    "else:\n",
    "    for i in range (1,num+1):\n",
    "        fact*=i\n",
    "    print(fact)"
   ]
  },
  {
   "cell_type": "code",
   "execution_count": 96,
   "metadata": {},
   "outputs": [
    {
     "name": "stdout",
     "output_type": "stream",
     "text": [
      "enter integer number= 8\n",
      "{1: 1, 2: 4, 3: 9, 4: 16, 5: 25, 6: 36, 7: 49, 8: 64}\n"
     ]
    }
   ],
   "source": [
    "#Q15. With a given integral number n, write a program to generate a dictionary that contains (i, i*i) such that \n",
    "#is an integral number between 1 and n (both included).and then the program should print the dictionary.\n",
    "\n",
    "#Suppose the following input is supplied to the program: 8\n",
    "#Then, the output should be: {1: 1, 2: 4, 3: 9, 4: 16, 5: 25, 6: 36, 7: 49, 8: 64}\n",
    "#Hints: In case of input data being supplied to the question, it should be assumed to be a console input. Consider using dict()\n",
    "\n",
    "num=int(input('enter integer number= '))\n",
    "d={}\n",
    "\n",
    "for i in range(1,num+1):\n",
    "    d[i]=i*i\n",
    "print(d)"
   ]
  },
  {
   "cell_type": "code",
   "execution_count": 92,
   "metadata": {},
   "outputs": [
    {
     "name": "stdout",
     "output_type": "stream",
     "text": [
      "enter comma separated sequence of numbers = 34,67,55,33,12,98\n",
      "['34', '67', '55', '33', '12', '98'] ('34', '67', '55', '33', '12', '98')\n"
     ]
    }
   ],
   "source": [
    "#Q16. Write a program which accepts a sequence of comma-separated numbers from console and generate a list and a tuple which #contains every number.\n",
    "#Suppose the following input is supplied to the program: 34,67,55,33,12,98\n",
    "#Then, the output should be: ['34', '67', '55', '33', '12', '98'] ('34', '67', '55', '33', '12', '98')\n",
    "\n",
    "#Hints: In case of input data being supplied to the question, it should be assumed to be a console input. you may use tuple() #method to convert list to tuple\n",
    "\n",
    "\n",
    "var=input('enter comma separated sequence of numbers = ')\n",
    "lst=var.split(',')\n",
    "tpl=tuple(lst)\n",
    "print(f'{lst} {tpl}')\n",
    "\n"
   ]
  },
  {
   "cell_type": "code",
   "execution_count": 87,
   "metadata": {},
   "outputs": [
    {
     "name": "stdout",
     "output_type": "stream",
     "text": [
      "enter sentance = without,hello,bag,world\n",
      "bag,hello,without,world\n"
     ]
    }
   ],
   "source": [
    "# Q17. Write a program that accepts a comma separated sequence of words as input and \n",
    "# prints the words in a comma-separated sequence after sorting them alphabetically.\n",
    "\n",
    "# Suppose the following input is supplied to the program: without,hello,bag,world\n",
    "# Then, the output should be: bag,hello,without,world\n",
    "\n",
    "#Hints: In case of input data being supplied to the question, it should be assumed to be a console input.\n",
    "\n",
    "\n",
    "\n",
    "string=input('enter comma separated sequence of words = ')\n",
    "s_string=sorted(string.split(','))\n",
    "print(','.join(s_string))"
   ]
  },
  {
   "cell_type": "code",
   "execution_count": 75,
   "metadata": {},
   "outputs": [
    {
     "name": "stdout",
     "output_type": "stream",
     "text": [
      "enter sentance =  hello world and practice makes perfect and hello world again\n",
      "again and hello makes perfect practice world\n"
     ]
    }
   ],
   "source": [
    "#Q18. Write a program that accepts a sequence of whitespace separated words \n",
    "# as input and prints the words after removing all duplicate words and sorting them alphanumerically.\n",
    "# Suppose the following input is supplied to the program: hello world and practice makes perfect and hello world again\n",
    "# Then, the output should be: again and hello makes perfect practice world\n",
    "\n",
    "#Hints: In case of input data being supplied to the question, it should be assumed to be a console input.\n",
    "#We use set container to remove duplicated data automatically and then use sorted() to sort the data.\n",
    "\n",
    "string=input('enter a sequence of whitespace separated words = ')\n",
    "s_string=string.split()\n",
    "lst=[]\n",
    "for i in s_string:\n",
    "    if i not in lst:\n",
    "        lst.append(i)\n",
    "    else:\n",
    "        pass\n",
    "lst.sort()\n",
    "print(' '.join(lst))"
   ]
  },
  {
   "cell_type": "code",
   "execution_count": 69,
   "metadata": {},
   "outputs": [
    {
     "name": "stdout",
     "output_type": "stream",
     "text": [
      "enter string = Arti Yadav\n",
      "UPPER CASE  2  LOWER CASE  7\n"
     ]
    }
   ],
   "source": [
    "#Q19. Write a program that accepts a sentence and calculate the number of upper case letters and lower case letters.\n",
    "#Suppose the following input is supplied to the program: Hello world!\n",
    "#Then, the output should be: UPPER CASE 1 LOWER CASE 9\n",
    "\n",
    "#Hints: In case of input data being supplied to the question, it should be assumed to be a console input.\n",
    "\n",
    "string=input('enter string = ')\n",
    "\n",
    "lowercase=0\n",
    "uppercase=0\n",
    "for i in string:\n",
    "    if i.islower():\n",
    "        lowercase+=1\n",
    "    elif i.isupper():\n",
    "        uppercase+=1\n",
    "    else:\n",
    "        pass\n",
    "print(f'UPPER CASE  {uppercase}  LOWER CASE  {lowercase}')\n",
    "        \n",
    "        \n"
   ]
  },
  {
   "cell_type": "code",
   "execution_count": 66,
   "metadata": {},
   "outputs": [
    {
     "name": "stdout",
     "output_type": "stream",
     "text": [
      "enter the string = abcd123\n",
      "321dcba\n"
     ]
    }
   ],
   "source": [
    "#Q20. Write a program that takes a string and returns reversed string. i.e. if input is \"abcd123\" output should be \"321dcba\"\n",
    "\n",
    "string= input('enter the string = ')\n",
    "print(string[::-1])"
   ]
  }
 ],
 "metadata": {
  "kernelspec": {
   "display_name": "Python 3 (ipykernel)",
   "language": "python",
   "name": "python3"
  },
  "language_info": {
   "codemirror_mode": {
    "name": "ipython",
    "version": 3
   },
   "file_extension": ".py",
   "mimetype": "text/x-python",
   "name": "python",
   "nbconvert_exporter": "python",
   "pygments_lexer": "ipython3",
   "version": "3.11.5"
  },
  "varInspector": {
   "cols": {
    "lenName": 16,
    "lenType": 16,
    "lenVar": 40
   },
   "kernels_config": {
    "python": {
     "delete_cmd_postfix": "",
     "delete_cmd_prefix": "del ",
     "library": "var_list.py",
     "varRefreshCmd": "print(var_dic_list())"
    },
    "r": {
     "delete_cmd_postfix": ") ",
     "delete_cmd_prefix": "rm(",
     "library": "var_list.r",
     "varRefreshCmd": "cat(var_dic_list()) "
    }
   },
   "types_to_exclude": [
    "module",
    "function",
    "builtin_function_or_method",
    "instance",
    "_Feature"
   ],
   "window_display": false
  }
 },
 "nbformat": 4,
 "nbformat_minor": 2
}
